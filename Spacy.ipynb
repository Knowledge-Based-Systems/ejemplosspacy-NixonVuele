{
 "cells": [
  {
   "cell_type": "code",
   "execution_count": 83,
   "id": "b678f161",
   "metadata": {},
   "outputs": [],
   "source": [
    "# se importa la libreria Spacy\n",
    "import spacy\n",
    "from spacy.lang.es import Spanish"
   ]
  },
  {
   "cell_type": "code",
   "execution_count": 84,
   "id": "4aa407e6",
   "metadata": {},
   "outputs": [],
   "source": [
    "# Se crea un ojeto nlp vacio para procesar español\n",
    "nlp = Spanish()"
   ]
  },
  {
   "cell_type": "code",
   "execution_count": 45,
   "id": "f786a08d",
   "metadata": {},
   "outputs": [],
   "source": [
    "# Creado al procesador un string de texto con el objeto nlp\n",
    "doc = nlp(\"¡Hola Mundo!\")"
   ]
  },
  {
   "cell_type": "code",
   "execution_count": 46,
   "id": "eef0ed5a",
   "metadata": {},
   "outputs": [
    {
     "name": "stdout",
     "output_type": "stream",
     "text": [
      "¡\n",
      "Hola\n",
      "Mundo\n",
      "!\n"
     ]
    }
   ],
   "source": [
    "# Itera sobre los tokens en un doc:\n",
    "for token in doc:\n",
    "    print(token.text)"
   ]
  },
  {
   "cell_type": "code",
   "execution_count": 47,
   "id": "ef9b8584",
   "metadata": {},
   "outputs": [
    {
     "name": "stdout",
     "output_type": "stream",
     "text": [
      "Hola\n"
     ]
    }
   ],
   "source": [
    "# Se usa el indice del Doc con el objetivo de obtener un solo token:\n",
    "token2 = doc[1]\n",
    "print(token2.text)"
   ]
  },
  {
   "cell_type": "code",
   "execution_count": 48,
   "id": "d151e70b",
   "metadata": {},
   "outputs": [
    {
     "name": "stdout",
     "output_type": "stream",
     "text": [
      "Mundo\n"
     ]
    }
   ],
   "source": [
    "# Ejemplo 3\n",
    "# Un objeto Span es un slice de un documento compuesto por 1 o mas tokens\n",
    "# el objeto span toma el token del doc desde la posicion 2, hasta la posicion 3,\n",
    "# sin embargo no se lo incluye al token de la posicion3\n",
    "span = doc[2:3]\n",
    "print(span.text)\n"
   ]
  },
  {
   "cell_type": "code",
   "execution_count": 81,
   "id": "70d4b31a",
   "metadata": {},
   "outputs": [],
   "source": [
    "doc = nlp(\"Eso cuesta $5.\")"
   ]
  },
  {
   "cell_type": "code",
   "execution_count": 82,
   "id": "05476fd6",
   "metadata": {},
   "outputs": [
    {
     "name": "stdout",
     "output_type": "stream",
     "text": [
      "Index:    [False, False, False, False, True]\n"
     ]
    }
   ],
   "source": [
    "# Atributos lexicos:\n",
    "# token.i : es el indice dentro del documento padre\n",
    "# token. text : devuelve el texrto del token\n",
    "# token.is_alpha : devuelve boobleanos que nos da a conocer si el token\n",
    "    # esta compuestos por caracteres alphabeticos \n",
    "# token.is_punct : devuelve boobleanos que nos da a conocer si el token\n",
    "    # esta compuestos por caracteres puntos o caracteres especiales \n",
    "# token.liken_num : devuelve boobleanos que nos da a conocer si el token\n",
    "    # esta compuestos por numeros\n",
    "print(\"Index:   \",[token.is_punct for token in doc])"
   ]
  },
  {
   "cell_type": "code",
   "execution_count": null,
   "id": "97039b7a",
   "metadata": {},
   "outputs": [],
   "source": [
    "# Modelos Estadisticos: le permite a spacy a hacer predicciones mediante el contexto\n",
    "# Part of speech tags\n",
    "# dependencia sintatica\n",
    "# entidades nombradas\n",
    " # paquete de modelo\n",
    "    #es_core_news_sm\n",
    "\n"
   ]
  },
  {
   "cell_type": "code",
   "execution_count": 92,
   "id": "7fbb22c7",
   "metadata": {},
   "outputs": [
    {
     "name": "stdout",
     "output_type": "stream",
     "text": [
      "Ella PRON nsubj comió\n",
      "comió VERB ROOT comió\n",
      "pizza NOUN obj comió\n"
     ]
    }
   ],
   "source": [
    "# Paquete de modelo\n",
    "nlp= spacy.load(\"es_core_news_sm\")\n",
    "doc = nlp(\"Ella comió pizza\")\n",
    "for token in doc:\n",
    "    print(token.text, token.pos_, token.dep_,token.head.text)\n",
    "# el pos devuelve si el token es pronombre o verbo o noun y el \n",
    "# dep devuelve si es el sujeto el root es un objeto \n",
    "# token.head es el token por el cuel estan atados otros tokens. es decir el el\n",
    "# que los une"
   ]
  },
  {
   "cell_type": "code",
   "execution_count": 86,
   "id": "ec948186",
   "metadata": {},
   "outputs": [
    {
     "name": "stdout",
     "output_type": "stream",
     "text": [
      "Porcentaje encontrado: 60\n",
      "Porcentaje encontrado: 4\n"
     ]
    }
   ],
   "source": [
    "# Ejemplo 1:\n",
    "#En este ejemplo usarás los objetos Doc y Token de spaCy y los atributos léxicos para encontrar porcentajes en el texto. Estarás buscando dos tokens subsecuentes: un número y un símbolo de porcentaje.\n",
    "import spacy\n",
    "\n",
    "nlp = spacy.blank(\"es\")\n",
    "\n",
    "# Procesa el texto\n",
    "doc = nlp(\n",
    "    \"En 1990, más del 60 % de las personas en Asia del Este se encontraban \"\n",
    "    \"en extrema pobreza. Ahora, menos del 4 % lo están.\"\n",
    ")\n",
    "\n",
    "# Itera sobre los tokens en el doc\n",
    "for token in doc:\n",
    "    # Revisa si el token parece un número\n",
    "    if token.like_num:\n",
    "        # Obtén el próximo token en el documento\n",
    "        next_token = doc[token.i + 1]\n",
    "        # Revisa si el texto del siguiente token es igual a '%'\n",
    "        if next_token.text == \"%\":\n",
    "            print(\"Porcentaje encontrado:\", token.text)"
   ]
  }
 ],
 "metadata": {
  "kernelspec": {
   "display_name": "Python 3 (ipykernel)",
   "language": "python",
   "name": "python3"
  },
  "language_info": {
   "codemirror_mode": {
    "name": "ipython",
    "version": 3
   },
   "file_extension": ".py",
   "mimetype": "text/x-python",
   "name": "python",
   "nbconvert_exporter": "python",
   "pygments_lexer": "ipython3",
   "version": "3.10.2"
  }
 },
 "nbformat": 4,
 "nbformat_minor": 5
}
